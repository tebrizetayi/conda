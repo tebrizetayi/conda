import pandas as pd
from pandas_ui import *
from io import StringIO

df = pd.read_csv(r'm.csv', sep=';')

csv_file = StringIO()
df.to_csv(csv_file)
csv_file.seek(1)
pandas_ui(csv_file)
